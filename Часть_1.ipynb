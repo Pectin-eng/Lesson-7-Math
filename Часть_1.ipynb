{
  "nbformat": 4,
  "nbformat_minor": 0,
  "metadata": {
    "kernelspec": {
      "display_name": "Python 3",
      "language": "python",
      "name": "python3"
    },
    "language_info": {
      "codemirror_mode": {
        "name": "ipython",
        "version": 3
      },
      "file_extension": ".py",
      "mimetype": "text/x-python",
      "name": "python",
      "nbconvert_exporter": "python",
      "pygments_lexer": "ipython3",
      "version": "3.6.0"
    },
    "colab": {
      "name": "Копия 2.3.ipynb",
      "provenance": [],
      "collapsed_sections": []
    }
  },
  "cells": [
    {
      "cell_type": "code",
      "metadata": {
        "colab": {
          "base_uri": "https://localhost:8080/"
        },
        "id": "4Yib2BYSbmcq",
        "outputId": "6351eeb4-fe91-47b7-8aac-7b1f930ebda6"
      },
      "source": [
        "import numpy as np\n",
        "print('Задание 1.')\n",
        "\n",
        "a = np.matrix([[1, 0, 0, 0, 0],\n",
        "               [0, 1, 0, 0, 0],\n",
        "               [0, 0, 1, 0, 0],\n",
        "               [0, 0, 0, 1, 0],\n",
        "               [0, 0, 0, 0, 1]])\n",
        "b = np.matrix([[3, 5, 2, -1, 0],\n",
        "               [2, -3, 4, 6, 5],\n",
        "               [4, 7, 3, -4, 5],\n",
        "               [2, 8, 9, -3, 5],\n",
        "               [5, -6, 2, 6, 3]])\n",
        "print('Единичная матрица пятого порядка:')\n",
        "print(a)\n",
        "print('Обратная матрица для единичной:')\n",
        "print(np.linalg.inv(a))\n",
        "print('Матрица пятого порядка:')\n",
        "print(b)\n",
        "print('Обратная матрица для матрицы пятого порядка:')\n",
        "print(np.linalg.inv(b))"
      ],
      "execution_count": null,
      "outputs": [
        {
          "output_type": "stream",
          "text": [
            "Задание 1.\n",
            "Единичная матрица пятого порядка:\n",
            "[[1 0 0 0 0]\n",
            " [0 1 0 0 0]\n",
            " [0 0 1 0 0]\n",
            " [0 0 0 1 0]\n",
            " [0 0 0 0 1]]\n",
            "Обратная матрица для единичной:\n",
            "[[1. 0. 0. 0. 0.]\n",
            " [0. 1. 0. 0. 0.]\n",
            " [0. 0. 1. 0. 0.]\n",
            " [0. 0. 0. 1. 0.]\n",
            " [0. 0. 0. 0. 1.]]\n",
            "Матрица пятого порядка:\n",
            "[[ 3  5  2 -1  0]\n",
            " [ 2 -3  4  6  5]\n",
            " [ 4  7  3 -4  5]\n",
            " [ 2  8  9 -3  5]\n",
            " [ 5 -6  2  6  3]]\n",
            "Обратная матрица для матрицы пятого порядка:\n",
            "[[ 0.08385707 -0.13682887  0.04327527 -0.01095349  0.17417849]\n",
            " [ 0.21637637  0.18441372  0.02172742 -0.09678578 -0.18225893]\n",
            " [-0.04776441 -0.12120668 -0.14670497  0.19895852  0.11492189]\n",
            " [ 0.23792422  0.26916861 -0.05494703 -0.11887233 -0.15891542]\n",
            " [-0.15101454  0.13934279  0.17902676 -0.07021009 -0.08026576]]\n"
          ],
          "name": "stdout"
        }
      ]
    },
    {
      "cell_type": "code",
      "metadata": {
        "colab": {
          "base_uri": "https://localhost:8080/"
        },
        "id": "iOKAEqTVfBcr",
        "outputId": "386b0d62-93e9-4642-9a7b-11fec64bf3ff"
      },
      "source": [
        "print('Задание 2.')\n",
        "\n",
        "c = np.matrix([[1, 2, 3],\n",
        "               [4, 0, 6],\n",
        "               [7, 8, 9]])\n",
        "\n",
        "print('Матрица третьего порядка:')\n",
        "print(c)\n",
        "print('Определитель матрицы третьего порядка:')\n",
        "print(np.linalg.det(c))"
      ],
      "execution_count": null,
      "outputs": [
        {
          "output_type": "stream",
          "text": [
            "Задание 2.\n",
            "Матрица третьего порядка:\n",
            "[[1 2 3]\n",
            " [4 0 6]\n",
            " [7 8 9]]\n",
            "Определитель матрицы третьего порядка:\n",
            "59.999999999999986\n"
          ],
          "name": "stdout"
        }
      ]
    },
    {
      "cell_type": "code",
      "metadata": {
        "colab": {
          "base_uri": "https://localhost:8080/"
        },
        "id": "LG8C0ZJdgbGs",
        "outputId": "9c7a4841-12e4-437b-9317-742cc5a43685"
      },
      "source": [
        "print('Задание 3.1')\n",
        "\n",
        "print('Обратная матрица для матрицы третьего порядка:')\n",
        "print(np.linalg.inv(c))"
      ],
      "execution_count": null,
      "outputs": [
        {
          "output_type": "stream",
          "text": [
            "Задание 3.\n",
            "Обратная матрица для матрицы третьего порядка:\n",
            "[[-0.8         0.1         0.2       ]\n",
            " [ 0.1        -0.2         0.1       ]\n",
            " [ 0.53333333  0.1        -0.13333333]]\n"
          ],
          "name": "stdout"
        }
      ]
    },
    {
      "cell_type": "code",
      "metadata": {
        "colab": {
          "base_uri": "https://localhost:8080/"
        },
        "id": "lHKAzGqCg6oL",
        "outputId": "3eabdbc4-b5cf-4025-931a-7bbd011b8a6e"
      },
      "source": [
        "print('Задание 3.2')\n",
        "d = np.matrix([[1, 6, 2, 0],\n",
        "               [0, 0, 0, 0],\n",
        "               [0, 0, 0, 0],\n",
        "               [0, 0, 0, 0]])\n",
        "print('Матрица четвертого порядка:')\n",
        "print(d)\n",
        "print('Ранг матрицы четвертого порядка:')\n",
        "print(np.linalg.matrix_rank(d))"
      ],
      "execution_count": null,
      "outputs": [
        {
          "output_type": "stream",
          "text": [
            "Задание 4.\n",
            "Матрица четвертого порядка:\n",
            "[[1 6 2 0]\n",
            " [0 0 0 0]\n",
            " [0 0 0 0]\n",
            " [0 0 0 0]]\n",
            "Ранг матрицы четвертого порядка:\n",
            "1\n"
          ],
          "name": "stdout"
        }
      ]
    },
    {
      "cell_type": "code",
      "metadata": {
        "id": "wdWEc0vyIPwB",
        "colab": {
          "base_uri": "https://localhost:8080/"
        },
        "outputId": "cdcd0dcf-ed41-40f0-ff06-60a22a7cfbd6"
      },
      "source": [
        "print('Задание 4.')\n",
        "a1 = np.array([1, 5])\n",
        "b1 = np.array([2, 8])\n",
        "print('Вектор 1:', a1)\n",
        "print('Вектор 2:', b1)\n",
        "print('Скалярное произведение векторов:', np.dot(a1, b1))"
      ],
      "execution_count": 8,
      "outputs": [
        {
          "output_type": "stream",
          "text": [
            "Задание 4.\n",
            "Вектор 1: [1 5]\n",
            "Вектор 2: [2 8]\n",
            "Скалярное произведение векторов: 42\n"
          ],
          "name": "stdout"
        }
      ]
    },
    {
      "cell_type": "code",
      "metadata": {
        "colab": {
          "base_uri": "https://localhost:8080/"
        },
        "id": "gmZab27yL6Uh",
        "outputId": "ea4ed84f-4737-4a2e-99db-01227fc4069f"
      },
      "source": [
        "print('Задание 5.')\n",
        "a2 = np.array([1, 5, 0])\n",
        "b2 = np.array([2, 8, 7])\n",
        "c2 = np.array([7, 1.5, 3])\n",
        "e = np.cross(a2, b2)\n",
        "f = np.cross(b2, c2)\n",
        "print(np.inner(e, c2))\n",
        "print(np.inner(f, a2))"
      ],
      "execution_count": 15,
      "outputs": [
        {
          "output_type": "stream",
          "text": [
            "Задание 5.\n",
            "228.5\n",
            "228.5\n"
          ],
          "name": "stdout"
        }
      ]
    }
  ]
}